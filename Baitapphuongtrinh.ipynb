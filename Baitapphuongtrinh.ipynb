{
  "nbformat": 4,
  "nbformat_minor": 0,
  "metadata": {
    "colab": {
      "name": "Baitapphuongtrinh.ipynb",
      "provenance": [],
      "authorship_tag": "ABX9TyO23i/E98bp+1dupDm900re",
      "include_colab_link": true
    },
    "kernelspec": {
      "name": "python3",
      "display_name": "Python 3"
    }
  },
  "cells": [
    {
      "cell_type": "markdown",
      "metadata": {
        "id": "view-in-github",
        "colab_type": "text"
      },
      "source": [
        "<a href=\"https://colab.research.google.com/github/levantuanpxu/baitapphuongtringpython/blob/main/Baitapphuongtrinh.ipynb\" target=\"_parent\"><img src=\"https://colab.research.google.com/assets/colab-badge.svg\" alt=\"Open In Colab\"/></a>"
      ]
    },
    {
      "cell_type": "markdown",
      "metadata": {
        "id": "vPk62mh9z9Ks"
      },
      "source": [
        "Bài 1: Lập trình nhập vào từ bàn phím 2 số nguyên và tính:\r\n",
        "1,Tổng của 2 số\r\n",
        "2,Tích của 2 số\r\n",
        "3,Hiệu của 2 số\r\n",
        "4,Phép chia lấy phần dư của 2 số\r\n",
        "5,Phép chia lấy phần nguyên của 2 số"
      ]
    },
    {
      "cell_type": "code",
      "metadata": {
        "colab": {
          "base_uri": "https://localhost:8080/"
        },
        "id": "tEdTDcvUz0zi",
        "outputId": "a23b1d5d-9613-457c-b910-fee6a0fac447"
      },
      "source": [
        "a = input(\"a=\")\r\n",
        "b= input(\"b=\")\r\n",
        "a = int(a)\r\n",
        "b= int(b)\r\n",
        "c=a+b\r\n",
        "d=a-b\r\n",
        "e=a*b\r\n",
        "f=a%b\r\n",
        "g=a//b\r\n",
        "print(\"a+b=\",c)\r\n",
        "print(\"a-b=\",d)\r\n",
        "print(\"a*b=\",e)\r\n",
        "print(\"a%b=\",f)\r\n",
        "print(\"a//b=\",g)"
      ],
      "execution_count": 1,
      "outputs": [
        {
          "output_type": "stream",
          "text": [
            "a=2\n",
            "b=3\n",
            "a+b= 5\n",
            "a-b= -1\n",
            "a*b= 6\n",
            "a%b= 2\n",
            "a//b= 0\n"
          ],
          "name": "stdout"
        }
      ]
    },
    {
      "cell_type": "markdown",
      "metadata": {
        "id": "U1zqS7Tq0xxl"
      },
      "source": [
        "Bài 2: Lập trình nhập vào từ bàn phím 2 số thực và tính:\r\n",
        "\r\n",
        "Tổng của 2 số\r\n",
        "Tích của 2 số\r\n",
        "Hiệu của 2 số\r\n",
        "Thương của 2 số"
      ]
    },
    {
      "cell_type": "code",
      "metadata": {
        "colab": {
          "base_uri": "https://localhost:8080/"
        },
        "id": "FXeVIqqpz75L",
        "outputId": "eceafd35-73fd-404f-ebfa-1a857344c8ff"
      },
      "source": [
        "a = input(\"a=\")\r\n",
        "b= input(\"b=\")\r\n",
        "a = float(a)\r\n",
        "b= float(b)\r\n",
        "c=a+b\r\n",
        "d=a-b\r\n",
        "e=a*b\r\n",
        "f=a/b\r\n",
        "\r\n",
        "print(\"a+b=\",c)\r\n",
        "print(\"a-b=\",d)\r\n",
        "print(\"a*b=\",e)\r\n",
        "print(\"a%b=\",f)"
      ],
      "execution_count": 2,
      "outputs": [
        {
          "output_type": "stream",
          "text": [
            "a=2\n",
            "b=4\n",
            "a+b= 6.0\n",
            "a-b= -2.0\n",
            "a*b= 8.0\n",
            "a%b= 0.5\n"
          ],
          "name": "stdout"
        }
      ]
    },
    {
      "cell_type": "markdown",
      "metadata": {
        "id": "Bv3SlIei1Sjb"
      },
      "source": [
        "Bài 3: (Sử dụng các hàm toán học) Nhập một số từ bàn phím và tính:\r\n",
        "\r\n",
        "Trị tuyệt đối\r\n",
        "Lấy phần nguyên của số\r\n",
        "Chuyển đổi thành số thực\r\n",
        "(nhập thêm 1 số từ bàn phím) và tính lũy thừa $ x^y $\r\n",
        "Tính căn bậc hai"
      ]
    },
    {
      "cell_type": "code",
      "metadata": {
        "colab": {
          "base_uri": "https://localhost:8080/"
        },
        "id": "OEuLg0Rn1TVz",
        "outputId": "5e1ca211-9319-4aeb-f589-83f0fca7e021"
      },
      "source": [
        "a = input(\"a=\")\r\n",
        "\r\n",
        "a = float(a)\r\n",
        "\r\n",
        "\r\n",
        "print('Giá trị tuyệt đối của ',a, 'là: ', abs(a))"
      ],
      "execution_count": 3,
      "outputs": [
        {
          "output_type": "stream",
          "text": [
            "a=2\n",
            "Giá trị tuyệt đối của  2.0 là:  2.0\n"
          ],
          "name": "stdout"
        }
      ]
    },
    {
      "cell_type": "code",
      "metadata": {
        "colab": {
          "base_uri": "https://localhost:8080/"
        },
        "id": "FXexGo631kmj",
        "outputId": "538b9fc9-3a66-4538-b55d-68a6f0917b09"
      },
      "source": [
        "\r\n",
        "a = input(\"a=\")\r\n",
        "b = 1\r\n",
        "a = float(a)\r\n",
        "print('Lấy phần nguyên của số ',a, 'là: ', a//b)"
      ],
      "execution_count": 4,
      "outputs": [
        {
          "output_type": "stream",
          "text": [
            "a=2\n",
            "Lấy phần nguyên của số  2.0 là:  2.0\n"
          ],
          "name": "stdout"
        }
      ]
    },
    {
      "cell_type": "code",
      "metadata": {
        "colab": {
          "base_uri": "https://localhost:8080/"
        },
        "id": "F-OudODK1pir",
        "outputId": "d784284d-5d29-40cc-a05b-a2a93a9fd934"
      },
      "source": [
        "\r\n",
        "a = input(\"a=\")\r\n",
        "a = float(a)\r\n",
        "print('chuyển ĐỔI THÀNH SỐ THỰC ',a, 'là: ', a)"
      ],
      "execution_count": 5,
      "outputs": [
        {
          "output_type": "stream",
          "text": [
            "a=2\n",
            "chuyển ĐỔI THÀNH SỐ THỰC  2.0 là:  2.0\n"
          ],
          "name": "stdout"
        }
      ]
    },
    {
      "cell_type": "code",
      "metadata": {
        "colab": {
          "base_uri": "https://localhost:8080/"
        },
        "id": "0R5z_umR1vBL",
        "outputId": "3afb9c58-be84-4198-c1b6-13c027b4cc02"
      },
      "source": [
        "a = input(\"a=\")\r\n",
        "b= input(\"b=\")\r\n",
        "a = int(a)\r\n",
        "b= int(b)\r\n",
        "c=a**b\r\n",
        "print(a,'lũy thừa ',b, 'là: ', c)"
      ],
      "execution_count": 6,
      "outputs": [
        {
          "output_type": "stream",
          "text": [
            "a=2\n",
            "b=3\n",
            "2 lũy thừa  3 là:  8\n"
          ],
          "name": "stdout"
        }
      ]
    },
    {
      "cell_type": "code",
      "metadata": {
        "colab": {
          "base_uri": "https://localhost:8080/"
        },
        "id": "pDGI35NP10rh",
        "outputId": "7881ec83-59a9-40e3-b40b-f9524822613a"
      },
      "source": [
        "import math\r\n",
        " \r\n",
        "print(\"Vui lòng nhập số cần tính căn bậc hai!\")\r\n",
        "number = float(input());\r\n",
        " \r\n",
        "print(\"Căn bậc hai của số \", number, ' là: ', math.sqrt(number))"
      ],
      "execution_count": 7,
      "outputs": [
        {
          "output_type": "stream",
          "text": [
            "Vui lòng nhập số cần tính căn bậc hai!\n",
            "2\n",
            "Căn bậc hai của số  2.0  là:  1.4142135623730951\n"
          ],
          "name": "stdout"
        }
      ]
    },
    {
      "cell_type": "markdown",
      "metadata": {
        "id": "dfdk92Us17Rq"
      },
      "source": [
        "Bài 4: Nhập 2 số từ bàn phím và thực hiện các phép so sánh sau giữa 2 số:\r\n",
        "\r\n",
        "1, >=\r\n",
        "2,<=\r\n",
        "3, >\r\n",
        "4, <\r\n",
        "5,#"
      ]
    },
    {
      "cell_type": "code",
      "metadata": {
        "colab": {
          "base_uri": "https://localhost:8080/"
        },
        "id": "lgsW462o19hT",
        "outputId": "ff273138-24e1-4fcb-91c2-daa3ba84f141"
      },
      "source": [
        "x = input(\"x=\")\r\n",
        "y = input(\"y=\")\r\n",
        "x= int(x)\r\n",
        "y=int(y)\r\n",
        "print('x > y is', x > y)\r\n",
        "print('x < y is', x < y)\r\n",
        "print('x == y is', x == y)\r\n",
        "print('x != y is', x != y)\r\n",
        "print('x >= y is', x >= y)\r\n",
        "print('x <= y is', x <= y)"
      ],
      "execution_count": 25,
      "outputs": [
        {
          "output_type": "stream",
          "text": [
            "x=2\n",
            "y=3\n",
            "x > y is False\n",
            "x < y is True\n",
            "x == y is False\n",
            "x != y is True\n",
            "x >= y is False\n",
            "x <= y is True\n"
          ],
          "name": "stdout"
        }
      ]
    },
    {
      "cell_type": "markdown",
      "metadata": {
        "id": "d_DH-CMd2X4t"
      },
      "source": [
        "Bài 5: Nhập 1 chuỗi ký tự từ bàn phím:\r\n",
        "\r\n",
        "Chuyển thành chuỗi in hoa\r\n",
        "Chuyển thành chuỗi in thường"
      ]
    },
    {
      "cell_type": "code",
      "metadata": {
        "colab": {
          "base_uri": "https://localhost:8080/"
        },
        "id": "05r1-Xdl5MdD",
        "outputId": "520efe87-38bc-4a97-c10d-584ae0d36599"
      },
      "source": [
        "\r\n",
        "tt1 = input(\"tt1=\")\r\n",
        "\r\n",
        "print ('Chuyển thành chuỗi in hoa  ',tt1.upper())"
      ],
      "execution_count": 27,
      "outputs": [
        {
          "output_type": "stream",
          "text": [
            "tt1=zzz\n",
            "Chuyển thành chuỗi in hoa   ZZZ\n"
          ],
          "name": "stdout"
        }
      ]
    },
    {
      "cell_type": "code",
      "metadata": {
        "colab": {
          "base_uri": "https://localhost:8080/"
        },
        "id": "_MUt8SBv680L",
        "outputId": "d02f1240-1d0c-4c04-9117-3e59c6b248a3"
      },
      "source": [
        "str1 = input(\"str1=\")\r\n",
        "\r\n",
        "print ('Chuyển thành chuỗi in thường',str1.title())"
      ],
      "execution_count": 29,
      "outputs": [
        {
          "output_type": "stream",
          "text": [
            "str1=ZZZ\n",
            "Chuyển thành chuỗi in thường Zzz\n"
          ],
          "name": "stdout"
        }
      ]
    }
  ]
}